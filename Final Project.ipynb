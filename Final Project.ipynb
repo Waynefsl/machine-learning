{
 "cells": [
  {
   "cell_type": "markdown",
   "id": "14e28a5e",
   "metadata": {},
   "source": [
    "# DSA 5102 - Final Project"
   ]
  },
  {
   "cell_type": "markdown",
   "id": "82793a11",
   "metadata": {},
   "source": [
    "# Description\n",
    "The goal of this assignment is to get you started on your final project. You should have (or should do so now)\n",
    "identified a potential dataset to work on. Refer to project instructions with data resources if you have trouble\n",
    "deciding on a dataset. Try to find something that’s interesting and unusual!\n",
    "In a Jupyter notebook:\n",
    "1. Introduce your dataset of choice and perform basic data visualization (you will improve upon these later in\n",
    "your project)\n",
    "2. Introduce an unsupervised learning problem statement (dimensionality reduction, clustering, etc) and apply\n",
    "a method to solve the problem (PCA, autoencoders, K-means clustering, etc)\n",
    "3. Discuss any interesting findings\n",
    "Please use the markdown features of Jupyter to document your steps. You will receive feedback, which will help\n",
    "you with your project. \n",
    "You are allowed to re-use content from this programming assignment in your final project"
   ]
  },
  {
   "cell_type": "markdown",
   "id": "2388c819",
   "metadata": {},
   "source": [
    "# Dataset\n",
    "I find a dataset about student performance which try to predict student performance in secondary education (high school).\n",
    "\n",
    "This data approach student achievement in secondary education of two Portuguese schools. It attributes include student grades, demographic, social and school related features and it was collected by using school reports and questionnaires. Two datasets are provided regarding the performance in two distinct subjects: Mathematics (mat) and Portuguese language (por).The detailed description of the dataset is found [here](https://www.kaggle.com/datasets/whenamancodes/student-performance?topic=socialScienceDataset&page=2&select=Portuguese.csv)\n",
    "\n",
    "Since that Mathematics group has 398 students' data and Portuguese language group has 652 students' data, I choose Portuguese language group as main research object.\n",
    "\n",
    "Firstly, let me show the original dataset:"
   ]
  },
  {
   "cell_type": "code",
   "execution_count": 1,
   "id": "41e7d13d",
   "metadata": {},
   "outputs": [
    {
     "data": {
      "text/html": [
       "<div>\n",
       "<style scoped>\n",
       "    .dataframe tbody tr th:only-of-type {\n",
       "        vertical-align: middle;\n",
       "    }\n",
       "\n",
       "    .dataframe tbody tr th {\n",
       "        vertical-align: top;\n",
       "    }\n",
       "\n",
       "    .dataframe thead th {\n",
       "        text-align: right;\n",
       "    }\n",
       "</style>\n",
       "<table border=\"1\" class=\"dataframe\">\n",
       "  <thead>\n",
       "    <tr style=\"text-align: right;\">\n",
       "      <th></th>\n",
       "      <th>school</th>\n",
       "      <th>sex</th>\n",
       "      <th>age</th>\n",
       "      <th>address</th>\n",
       "      <th>famsize</th>\n",
       "      <th>Pstatus</th>\n",
       "      <th>Medu</th>\n",
       "      <th>Fedu</th>\n",
       "      <th>Mjob</th>\n",
       "      <th>Fjob</th>\n",
       "      <th>...</th>\n",
       "      <th>famrel</th>\n",
       "      <th>freetime</th>\n",
       "      <th>goout</th>\n",
       "      <th>Dalc</th>\n",
       "      <th>Walc</th>\n",
       "      <th>health</th>\n",
       "      <th>absences</th>\n",
       "      <th>G1</th>\n",
       "      <th>G2</th>\n",
       "      <th>G3</th>\n",
       "    </tr>\n",
       "  </thead>\n",
       "  <tbody>\n",
       "    <tr>\n",
       "      <th>0</th>\n",
       "      <td>GP</td>\n",
       "      <td>F</td>\n",
       "      <td>18</td>\n",
       "      <td>U</td>\n",
       "      <td>GT3</td>\n",
       "      <td>A</td>\n",
       "      <td>4</td>\n",
       "      <td>4</td>\n",
       "      <td>at_home</td>\n",
       "      <td>teacher</td>\n",
       "      <td>...</td>\n",
       "      <td>4</td>\n",
       "      <td>3</td>\n",
       "      <td>4</td>\n",
       "      <td>1</td>\n",
       "      <td>1</td>\n",
       "      <td>3</td>\n",
       "      <td>4</td>\n",
       "      <td>0</td>\n",
       "      <td>11</td>\n",
       "      <td>11</td>\n",
       "    </tr>\n",
       "    <tr>\n",
       "      <th>1</th>\n",
       "      <td>GP</td>\n",
       "      <td>F</td>\n",
       "      <td>17</td>\n",
       "      <td>U</td>\n",
       "      <td>GT3</td>\n",
       "      <td>T</td>\n",
       "      <td>1</td>\n",
       "      <td>1</td>\n",
       "      <td>at_home</td>\n",
       "      <td>other</td>\n",
       "      <td>...</td>\n",
       "      <td>5</td>\n",
       "      <td>3</td>\n",
       "      <td>3</td>\n",
       "      <td>1</td>\n",
       "      <td>1</td>\n",
       "      <td>3</td>\n",
       "      <td>2</td>\n",
       "      <td>9</td>\n",
       "      <td>11</td>\n",
       "      <td>11</td>\n",
       "    </tr>\n",
       "    <tr>\n",
       "      <th>2</th>\n",
       "      <td>GP</td>\n",
       "      <td>F</td>\n",
       "      <td>15</td>\n",
       "      <td>U</td>\n",
       "      <td>LE3</td>\n",
       "      <td>T</td>\n",
       "      <td>1</td>\n",
       "      <td>1</td>\n",
       "      <td>at_home</td>\n",
       "      <td>other</td>\n",
       "      <td>...</td>\n",
       "      <td>4</td>\n",
       "      <td>3</td>\n",
       "      <td>2</td>\n",
       "      <td>2</td>\n",
       "      <td>3</td>\n",
       "      <td>3</td>\n",
       "      <td>6</td>\n",
       "      <td>12</td>\n",
       "      <td>13</td>\n",
       "      <td>12</td>\n",
       "    </tr>\n",
       "    <tr>\n",
       "      <th>3</th>\n",
       "      <td>GP</td>\n",
       "      <td>F</td>\n",
       "      <td>15</td>\n",
       "      <td>U</td>\n",
       "      <td>GT3</td>\n",
       "      <td>T</td>\n",
       "      <td>4</td>\n",
       "      <td>2</td>\n",
       "      <td>health</td>\n",
       "      <td>services</td>\n",
       "      <td>...</td>\n",
       "      <td>3</td>\n",
       "      <td>2</td>\n",
       "      <td>2</td>\n",
       "      <td>1</td>\n",
       "      <td>1</td>\n",
       "      <td>5</td>\n",
       "      <td>0</td>\n",
       "      <td>14</td>\n",
       "      <td>14</td>\n",
       "      <td>14</td>\n",
       "    </tr>\n",
       "    <tr>\n",
       "      <th>4</th>\n",
       "      <td>GP</td>\n",
       "      <td>F</td>\n",
       "      <td>16</td>\n",
       "      <td>U</td>\n",
       "      <td>GT3</td>\n",
       "      <td>T</td>\n",
       "      <td>3</td>\n",
       "      <td>3</td>\n",
       "      <td>other</td>\n",
       "      <td>other</td>\n",
       "      <td>...</td>\n",
       "      <td>4</td>\n",
       "      <td>3</td>\n",
       "      <td>2</td>\n",
       "      <td>1</td>\n",
       "      <td>2</td>\n",
       "      <td>5</td>\n",
       "      <td>0</td>\n",
       "      <td>11</td>\n",
       "      <td>13</td>\n",
       "      <td>13</td>\n",
       "    </tr>\n",
       "  </tbody>\n",
       "</table>\n",
       "<p>5 rows × 33 columns</p>\n",
       "</div>"
      ],
      "text/plain": [
       "  school sex  age address famsize Pstatus  Medu  Fedu     Mjob      Fjob  ...  \\\n",
       "0     GP   F   18       U     GT3       A     4     4  at_home   teacher  ...   \n",
       "1     GP   F   17       U     GT3       T     1     1  at_home     other  ...   \n",
       "2     GP   F   15       U     LE3       T     1     1  at_home     other  ...   \n",
       "3     GP   F   15       U     GT3       T     4     2   health  services  ...   \n",
       "4     GP   F   16       U     GT3       T     3     3    other     other  ...   \n",
       "\n",
       "  famrel freetime  goout  Dalc  Walc health absences  G1  G2  G3  \n",
       "0      4        3      4     1     1      3        4   0  11  11  \n",
       "1      5        3      3     1     1      3        2   9  11  11  \n",
       "2      4        3      2     2     3      3        6  12  13  12  \n",
       "3      3        2      2     1     1      5        0  14  14  14  \n",
       "4      4        3      2     1     2      5        0  11  13  13  \n",
       "\n",
       "[5 rows x 33 columns]"
      ]
     },
     "execution_count": 1,
     "metadata": {},
     "output_type": "execute_result"
    }
   ],
   "source": [
    "import numpy as np\n",
    "import pandas as pd\n",
    "import matplotlib.pyplot as plt\n",
    "import seaborn as sns\n",
    "data = pd.read_csv('Portuguese.csv')\n",
    "data.head()"
   ]
  },
  {
   "cell_type": "markdown",
   "id": "8d5848db",
   "metadata": {},
   "source": [
    "Let me explain some attributes that are difficult to understand.\n",
    "\n",
    "Medu: mother's education ( 0 - none, 1 - primary education, 2 -  5th to 9th grade, 3 - secondary education or 4 -  higher education)\n",
    "\n",
    "Fedu: father's education ( 0 - none, 1 - primary education, 2 -  5th to 9th grade, 3 - secondary education or 4 -  higher education)\n",
    "\n",
    "schoolsup: extra educational support (yes or no)\n",
    "\n",
    "paid: extra paid classes within the course subject (yes or no)\n",
    "\n",
    "higher: wants to take higher education (yes or no)\n",
    "\n",
    "romantic: with a romantic relationship (yes or no)\n",
    "\n",
    "goout: going out with friends (from 1 - very low to 5 - very high)\n",
    "\n",
    "Dalc: workday alcohol consumption (from 1 - very low to 5 - very high)\n",
    "\n",
    "Walc: weekend alcohol consumption (from 1 - very low to 5 - very high)"
   ]
  },
  {
   "cell_type": "code",
   "execution_count": 2,
   "id": "7d0d0709",
   "metadata": {
    "scrolled": true
   },
   "outputs": [
    {
     "data": {
      "text/html": [
       "<div>\n",
       "<style scoped>\n",
       "    .dataframe tbody tr th:only-of-type {\n",
       "        vertical-align: middle;\n",
       "    }\n",
       "\n",
       "    .dataframe tbody tr th {\n",
       "        vertical-align: top;\n",
       "    }\n",
       "\n",
       "    .dataframe thead th {\n",
       "        text-align: right;\n",
       "    }\n",
       "</style>\n",
       "<table border=\"1\" class=\"dataframe\">\n",
       "  <thead>\n",
       "    <tr style=\"text-align: right;\">\n",
       "      <th></th>\n",
       "      <th>age</th>\n",
       "      <th>Medu</th>\n",
       "      <th>Fedu</th>\n",
       "      <th>traveltime</th>\n",
       "      <th>studytime</th>\n",
       "      <th>failures</th>\n",
       "      <th>famrel</th>\n",
       "      <th>freetime</th>\n",
       "      <th>goout</th>\n",
       "      <th>Dalc</th>\n",
       "      <th>Walc</th>\n",
       "      <th>health</th>\n",
       "      <th>absences</th>\n",
       "      <th>G1</th>\n",
       "      <th>G2</th>\n",
       "      <th>G3</th>\n",
       "    </tr>\n",
       "  </thead>\n",
       "  <tbody>\n",
       "    <tr>\n",
       "      <th>count</th>\n",
       "      <td>651.000000</td>\n",
       "      <td>651.000000</td>\n",
       "      <td>651.000000</td>\n",
       "      <td>651.000000</td>\n",
       "      <td>651.000000</td>\n",
       "      <td>651.000000</td>\n",
       "      <td>651.000000</td>\n",
       "      <td>651.00000</td>\n",
       "      <td>651.000000</td>\n",
       "      <td>651.000000</td>\n",
       "      <td>651.000000</td>\n",
       "      <td>651.000000</td>\n",
       "      <td>651.000000</td>\n",
       "      <td>651.000000</td>\n",
       "      <td>651.000000</td>\n",
       "      <td>651.000000</td>\n",
       "    </tr>\n",
       "    <tr>\n",
       "      <th>mean</th>\n",
       "      <td>16.745008</td>\n",
       "      <td>2.516129</td>\n",
       "      <td>2.308756</td>\n",
       "      <td>1.569892</td>\n",
       "      <td>1.930876</td>\n",
       "      <td>0.221198</td>\n",
       "      <td>3.930876</td>\n",
       "      <td>3.18126</td>\n",
       "      <td>3.187404</td>\n",
       "      <td>1.500768</td>\n",
       "      <td>2.276498</td>\n",
       "      <td>3.537634</td>\n",
       "      <td>3.654378</td>\n",
       "      <td>11.382488</td>\n",
       "      <td>11.569892</td>\n",
       "      <td>11.904762</td>\n",
       "    </tr>\n",
       "    <tr>\n",
       "      <th>std</th>\n",
       "      <td>1.217609</td>\n",
       "      <td>1.134481</td>\n",
       "      <td>1.100308</td>\n",
       "      <td>0.747889</td>\n",
       "      <td>0.828241</td>\n",
       "      <td>0.592449</td>\n",
       "      <td>0.954253</td>\n",
       "      <td>1.04999</td>\n",
       "      <td>1.174824</td>\n",
       "      <td>0.923830</td>\n",
       "      <td>1.284362</td>\n",
       "      <td>1.445326</td>\n",
       "      <td>4.635853</td>\n",
       "      <td>2.777315</td>\n",
       "      <td>2.909287</td>\n",
       "      <td>3.225880</td>\n",
       "    </tr>\n",
       "    <tr>\n",
       "      <th>min</th>\n",
       "      <td>15.000000</td>\n",
       "      <td>0.000000</td>\n",
       "      <td>0.000000</td>\n",
       "      <td>1.000000</td>\n",
       "      <td>1.000000</td>\n",
       "      <td>0.000000</td>\n",
       "      <td>1.000000</td>\n",
       "      <td>1.00000</td>\n",
       "      <td>1.000000</td>\n",
       "      <td>1.000000</td>\n",
       "      <td>1.000000</td>\n",
       "      <td>1.000000</td>\n",
       "      <td>0.000000</td>\n",
       "      <td>0.000000</td>\n",
       "      <td>0.000000</td>\n",
       "      <td>0.000000</td>\n",
       "    </tr>\n",
       "    <tr>\n",
       "      <th>25%</th>\n",
       "      <td>16.000000</td>\n",
       "      <td>2.000000</td>\n",
       "      <td>1.000000</td>\n",
       "      <td>1.000000</td>\n",
       "      <td>1.000000</td>\n",
       "      <td>0.000000</td>\n",
       "      <td>4.000000</td>\n",
       "      <td>3.00000</td>\n",
       "      <td>2.000000</td>\n",
       "      <td>1.000000</td>\n",
       "      <td>1.000000</td>\n",
       "      <td>2.000000</td>\n",
       "      <td>0.000000</td>\n",
       "      <td>10.000000</td>\n",
       "      <td>10.000000</td>\n",
       "      <td>10.000000</td>\n",
       "    </tr>\n",
       "    <tr>\n",
       "      <th>50%</th>\n",
       "      <td>17.000000</td>\n",
       "      <td>2.000000</td>\n",
       "      <td>2.000000</td>\n",
       "      <td>1.000000</td>\n",
       "      <td>2.000000</td>\n",
       "      <td>0.000000</td>\n",
       "      <td>4.000000</td>\n",
       "      <td>3.00000</td>\n",
       "      <td>3.000000</td>\n",
       "      <td>1.000000</td>\n",
       "      <td>2.000000</td>\n",
       "      <td>4.000000</td>\n",
       "      <td>2.000000</td>\n",
       "      <td>11.000000</td>\n",
       "      <td>11.000000</td>\n",
       "      <td>12.000000</td>\n",
       "    </tr>\n",
       "    <tr>\n",
       "      <th>75%</th>\n",
       "      <td>18.000000</td>\n",
       "      <td>4.000000</td>\n",
       "      <td>3.000000</td>\n",
       "      <td>2.000000</td>\n",
       "      <td>2.000000</td>\n",
       "      <td>0.000000</td>\n",
       "      <td>5.000000</td>\n",
       "      <td>4.00000</td>\n",
       "      <td>4.000000</td>\n",
       "      <td>2.000000</td>\n",
       "      <td>3.000000</td>\n",
       "      <td>5.000000</td>\n",
       "      <td>6.000000</td>\n",
       "      <td>13.000000</td>\n",
       "      <td>13.000000</td>\n",
       "      <td>14.000000</td>\n",
       "    </tr>\n",
       "    <tr>\n",
       "      <th>max</th>\n",
       "      <td>22.000000</td>\n",
       "      <td>4.000000</td>\n",
       "      <td>4.000000</td>\n",
       "      <td>4.000000</td>\n",
       "      <td>4.000000</td>\n",
       "      <td>3.000000</td>\n",
       "      <td>5.000000</td>\n",
       "      <td>5.00000</td>\n",
       "      <td>5.000000</td>\n",
       "      <td>5.000000</td>\n",
       "      <td>5.000000</td>\n",
       "      <td>5.000000</td>\n",
       "      <td>32.000000</td>\n",
       "      <td>19.000000</td>\n",
       "      <td>19.000000</td>\n",
       "      <td>19.000000</td>\n",
       "    </tr>\n",
       "  </tbody>\n",
       "</table>\n",
       "</div>"
      ],
      "text/plain": [
       "              age        Medu        Fedu  traveltime   studytime    failures  \\\n",
       "count  651.000000  651.000000  651.000000  651.000000  651.000000  651.000000   \n",
       "mean    16.745008    2.516129    2.308756    1.569892    1.930876    0.221198   \n",
       "std      1.217609    1.134481    1.100308    0.747889    0.828241    0.592449   \n",
       "min     15.000000    0.000000    0.000000    1.000000    1.000000    0.000000   \n",
       "25%     16.000000    2.000000    1.000000    1.000000    1.000000    0.000000   \n",
       "50%     17.000000    2.000000    2.000000    1.000000    2.000000    0.000000   \n",
       "75%     18.000000    4.000000    3.000000    2.000000    2.000000    0.000000   \n",
       "max     22.000000    4.000000    4.000000    4.000000    4.000000    3.000000   \n",
       "\n",
       "           famrel   freetime       goout        Dalc        Walc      health  \\\n",
       "count  651.000000  651.00000  651.000000  651.000000  651.000000  651.000000   \n",
       "mean     3.930876    3.18126    3.187404    1.500768    2.276498    3.537634   \n",
       "std      0.954253    1.04999    1.174824    0.923830    1.284362    1.445326   \n",
       "min      1.000000    1.00000    1.000000    1.000000    1.000000    1.000000   \n",
       "25%      4.000000    3.00000    2.000000    1.000000    1.000000    2.000000   \n",
       "50%      4.000000    3.00000    3.000000    1.000000    2.000000    4.000000   \n",
       "75%      5.000000    4.00000    4.000000    2.000000    3.000000    5.000000   \n",
       "max      5.000000    5.00000    5.000000    5.000000    5.000000    5.000000   \n",
       "\n",
       "         absences          G1          G2          G3  \n",
       "count  651.000000  651.000000  651.000000  651.000000  \n",
       "mean     3.654378   11.382488   11.569892   11.904762  \n",
       "std      4.635853    2.777315    2.909287    3.225880  \n",
       "min      0.000000    0.000000    0.000000    0.000000  \n",
       "25%      0.000000   10.000000   10.000000   10.000000  \n",
       "50%      2.000000   11.000000   11.000000   12.000000  \n",
       "75%      6.000000   13.000000   13.000000   14.000000  \n",
       "max     32.000000   19.000000   19.000000   19.000000  "
      ]
     },
     "execution_count": 2,
     "metadata": {},
     "output_type": "execute_result"
    }
   ],
   "source": [
    "data.describe()"
   ]
  },
  {
   "cell_type": "markdown",
   "id": "f9e1ba7b",
   "metadata": {},
   "source": [
    "## Visualization"
   ]
  },
  {
   "cell_type": "code",
   "execution_count": 3,
   "id": "957fcde4",
   "metadata": {},
   "outputs": [
    {
     "data": {
      "text/plain": [
       "<matplotlib.legend.Legend at 0x2433fe09f70>"
      ]
     },
     "execution_count": 3,
     "metadata": {},
     "output_type": "execute_result"
    },
    {
     "data": {
      "image/png": "[encoded data removed]",
      "text/plain": [
       "<Figure size 864x216 with 3 Axes>"
      ]
     },
     "metadata": {
      "needs_background": "light"
     },
     "output_type": "display_data"
    }
   ],
   "source": [
    "fig, ax =plt.subplots(1,3,constrained_layout=True, figsize=(12, 3))\n",
    "axsub = sns.boxplot(x='school', y='G1', data=data, hue='sex',ax=ax[0])\n",
    "axsub.legend(loc='center left', bbox_to_anchor=(1.1, 0.5), ncol=1)\n",
    "axsub = sns.boxplot(x='school', y='G2', data=data, hue='sex',ax=ax[1])\n",
    "axsub.legend(loc='center left', bbox_to_anchor=(1.1, 0.5), ncol=1)\n",
    "axsub = sns.boxplot(x='school', y='G3', data=data, hue='sex',ax=ax[2])\n",
    "axsub.legend(loc='center left', bbox_to_anchor=(1.1, 0.5), ncol=1)"
   ]
  },
  {
   "cell_type": "markdown",
   "id": "2164e8dd",
   "metadata": {},
   "source": [
    "G3 is the final year grade, while G1 and G2 correspond to the 1st and 2nd period grades. These three features could be seen as target attributes. It can be seen from the above figure that the grades of students in GP school are higher than those of MS school and the performance of girls is better than boys in the two schools."
   ]
  },
  {
   "cell_type": "code",
   "execution_count": 4,
   "id": "46ddad50",
   "metadata": {},
   "outputs": [
    {
     "data": {
      "text/plain": [
       "<matplotlib.legend.Legend at 0x2433fc6b2b0>"
      ]
     },
     "execution_count": 4,
     "metadata": {},
     "output_type": "execute_result"
    },
    {
     "data": {
      "image/png": "[encoded data removed]",
      "text/plain": [
       "<Figure size 432x288 with 1 Axes>"
      ]
     },
     "metadata": {
      "needs_background": "light"
     },
     "output_type": "display_data"
    }
   ],
   "source": [
    "axsub = sns.boxplot(x='sex', y='G1', data=data, hue='address')\n",
    "axessub = sns.stripplot(x='sex', y='G1', data=data, hue='address', ax=axsub)\n",
    "axessub = sns.lineplot(x='sex', y='G1', data=data, hue='address', ax=axsub)\n",
    "axsub.legend(loc='center left', bbox_to_anchor=(1.1, 0.5), ncol=1)"
   ]
  },
  {
   "cell_type": "markdown",
   "id": "4c7b9d54",
   "metadata": {},
   "source": [
    "Whether male or female, the average score of students living in urban is better than those living in rural."
   ]
  },
  {
   "cell_type": "code",
   "execution_count": 5,
   "id": "bf0e0c99",
   "metadata": {},
   "outputs": [
    {
     "name": "stderr",
     "output_type": "stream",
     "text": [
      "C:\\Users\\Wayne\\AppData\\Local\\Temp/ipykernel_36472/197647129.py:5: FutureWarning: Support for multi-dimensional indexing (e.g. `obj[:, None]`) is deprecated and will be removed in a future version.  Convert to a numpy array before indexing instead.\n",
      "  X=data['G1'][:, np.newaxis],\n",
      "C:\\Users\\Wayne\\AppData\\Local\\Temp/ipykernel_36472/197647129.py:10: FutureWarning: Support for multi-dimensional indexing (e.g. `obj[:, None]`) is deprecated and will be removed in a future version.  Convert to a numpy array before indexing instead.\n",
      "  X=data['G2'][:, np.newaxis],\n",
      "C:\\Users\\Wayne\\AppData\\Local\\Temp/ipykernel_36472/197647129.py:13: FutureWarning: Support for multi-dimensional indexing (e.g. `obj[:, None]`) is deprecated and will be removed in a future version.  Convert to a numpy array before indexing instead.\n",
      "  y1_pred = regressor1.predict(data['G1'][:, np.newaxis])\n",
      "C:\\Users\\Wayne\\AppData\\Local\\Temp/ipykernel_36472/197647129.py:14: FutureWarning: Support for multi-dimensional indexing (e.g. `obj[:, None]`) is deprecated and will be removed in a future version.  Convert to a numpy array before indexing instead.\n",
      "  y2_pred = regressor2.predict(data['G2'][:, np.newaxis])\n"
     ]
    },
    {
     "data": {
      "image/png": "[encoded data removed]",
      "text/plain": [
       "<Figure size 720x288 with 2 Axes>"
      ]
     },
     "metadata": {
      "needs_background": "light"
     },
     "output_type": "display_data"
    }
   ],
   "source": [
    "from sklearn.linear_model import LinearRegression\n",
    "#Linear regression\n",
    "regressor1 = LinearRegression()\n",
    "regressor1.fit(\n",
    "    X=data['G1'][:, np.newaxis],\n",
    "    y=data['G3'],\n",
    ")\n",
    "regressor2 = LinearRegression()\n",
    "regressor2.fit(\n",
    "    X=data['G2'][:, np.newaxis],\n",
    "    y=data['G3'],\n",
    ")\n",
    "y1_pred = regressor1.predict(data['G1'][:, np.newaxis])\n",
    "y2_pred = regressor2.predict(data['G2'][:, np.newaxis])\n",
    "\n",
    "fig, ax = plt.subplots(1, 2, figsize=(10, 4), sharex=True)\n",
    "sns.scatterplot(\n",
    "    x=data['G1'],\n",
    "    y=data['G3'],\n",
    "    ax=ax[0],\n",
    "    alpha=0.5,\n",
    ")\n",
    "sns.lineplot(\n",
    "    x=data['G1'],\n",
    "    y=y1_pred,\n",
    "    ax=ax[0],\n",
    "    color='red',\n",
    ")\n",
    "\n",
    "sns.scatterplot(\n",
    "    x=data['G2'],\n",
    "    y=data['G3'],\n",
    "    ax=ax[1],\n",
    "    alpha=0.5,\n",
    ")\n",
    "sns.lineplot(\n",
    "    x=data['G2'],\n",
    "    y=y2_pred,\n",
    "    ax=ax[1],\n",
    "    color='red',\n",
    ")\n",
    "\n",
    "\n",
    "fig.tight_layout()"
   ]
  },
  {
   "cell_type": "markdown",
   "id": "a0b975e1",
   "metadata": {},
   "source": [
    "Generally speaking, the grades of the third semester are highly correlated with the first two semesters. Therefore, I try to use the linear regression method to predict G3 by using G1 and G2 respectively, and the fitting effect is good."
   ]
  },
  {
   "cell_type": "markdown",
   "id": "7bbbbb8d",
   "metadata": {},
   "source": [
    "# Data preprocessing"
   ]
  },
  {
   "cell_type": "markdown",
   "id": "f013cc4f",
   "metadata": {},
   "source": [
    "After observing the data distribution, I delete some indicators which are not closely related to students’ performance（‘school’，‘reason’). The results of parents' jobs('Mjob', 'Fjob') are too diverse to discuss the impact on children’s academic performance, so I also delete these two indicators."
   ]
  },
  {
   "cell_type": "code",
   "execution_count": 6,
   "id": "8fa9e20d",
   "metadata": {},
   "outputs": [],
   "source": [
    "data=data.drop(['school','reason','Mjob','Fjob'],axis=1)"
   ]
  },
  {
   "cell_type": "markdown",
   "id": "2a4db11d",
   "metadata": {},
   "source": [
    "Then I change some string variables into numeric variables:\n",
    "\n",
    "Sex: Female(0), Male(1)\n",
    "\n",
    "Adress: Urban(0), Rural(1)\n",
    "\n",
    "Family size: Less or equal to 3(0), Greater than 3(1)\n",
    "\n",
    "Pstatus: Living together(0), Apart(1)\n",
    "\n",
    "Guardian: Mother(0), Father(1), Other(2)\n",
    "\n",
    "Extra educational support：No(0), Yes(1)\n",
    "\n",
    "Family educational support:  No(0), Yes(1)\n",
    "\n",
    "Extra paid classes: No(0), Yes(1)\n",
    "\n",
    "Extra-curricular activities: No(0), Yes(1)\n",
    "\n",
    "Attended nursery school: No(0), Yes(1)\n",
    "\n",
    "Wants to take higher education: No(0), Yes(1)\n",
    "\n",
    "Internet access at home: No(0), Yes(1)\n",
    "\n",
    "With a romantic relationship: No(0), Yes(1)"
   ]
  },
  {
   "cell_type": "code",
   "execution_count": 7,
   "id": "f1fe8093",
   "metadata": {},
   "outputs": [
    {
     "data": {
      "text/html": [
       "<div>\n",
       "<style scoped>\n",
       "    .dataframe tbody tr th:only-of-type {\n",
       "        vertical-align: middle;\n",
       "    }\n",
       "\n",
       "    .dataframe tbody tr th {\n",
       "        vertical-align: top;\n",
       "    }\n",
       "\n",
       "    .dataframe thead th {\n",
       "        text-align: right;\n",
       "    }\n",
       "</style>\n",
       "<table border=\"1\" class=\"dataframe\">\n",
       "  <thead>\n",
       "    <tr style=\"text-align: right;\">\n",
       "      <th></th>\n",
       "      <th>sex</th>\n",
       "      <th>age</th>\n",
       "      <th>address</th>\n",
       "      <th>famsize</th>\n",
       "      <th>Pstatus</th>\n",
       "      <th>Medu</th>\n",
       "      <th>Fedu</th>\n",
       "      <th>guardian</th>\n",
       "      <th>traveltime</th>\n",
       "      <th>studytime</th>\n",
       "      <th>...</th>\n",
       "      <th>famrel</th>\n",
       "      <th>freetime</th>\n",
       "      <th>goout</th>\n",
       "      <th>Dalc</th>\n",
       "      <th>Walc</th>\n",
       "      <th>health</th>\n",
       "      <th>absences</th>\n",
       "      <th>G1</th>\n",
       "      <th>G2</th>\n",
       "      <th>G3</th>\n",
       "    </tr>\n",
       "  </thead>\n",
       "  <tbody>\n",
       "    <tr>\n",
       "      <th>0</th>\n",
       "      <td>0</td>\n",
       "      <td>18</td>\n",
       "      <td>0</td>\n",
       "      <td>1</td>\n",
       "      <td>1</td>\n",
       "      <td>4</td>\n",
       "      <td>4</td>\n",
       "      <td>0</td>\n",
       "      <td>2</td>\n",
       "      <td>2</td>\n",
       "      <td>...</td>\n",
       "      <td>4</td>\n",
       "      <td>3</td>\n",
       "      <td>4</td>\n",
       "      <td>1</td>\n",
       "      <td>1</td>\n",
       "      <td>3</td>\n",
       "      <td>4</td>\n",
       "      <td>0</td>\n",
       "      <td>11</td>\n",
       "      <td>11</td>\n",
       "    </tr>\n",
       "    <tr>\n",
       "      <th>1</th>\n",
       "      <td>0</td>\n",
       "      <td>17</td>\n",
       "      <td>0</td>\n",
       "      <td>1</td>\n",
       "      <td>0</td>\n",
       "      <td>1</td>\n",
       "      <td>1</td>\n",
       "      <td>1</td>\n",
       "      <td>1</td>\n",
       "      <td>2</td>\n",
       "      <td>...</td>\n",
       "      <td>5</td>\n",
       "      <td>3</td>\n",
       "      <td>3</td>\n",
       "      <td>1</td>\n",
       "      <td>1</td>\n",
       "      <td>3</td>\n",
       "      <td>2</td>\n",
       "      <td>9</td>\n",
       "      <td>11</td>\n",
       "      <td>11</td>\n",
       "    </tr>\n",
       "    <tr>\n",
       "      <th>2</th>\n",
       "      <td>0</td>\n",
       "      <td>15</td>\n",
       "      <td>0</td>\n",
       "      <td>0</td>\n",
       "      <td>0</td>\n",
       "      <td>1</td>\n",
       "      <td>1</td>\n",
       "      <td>0</td>\n",
       "      <td>1</td>\n",
       "      <td>2</td>\n",
       "      <td>...</td>\n",
       "      <td>4</td>\n",
       "      <td>3</td>\n",
       "      <td>2</td>\n",
       "      <td>2</td>\n",
       "      <td>3</td>\n",
       "      <td>3</td>\n",
       "      <td>6</td>\n",
       "      <td>12</td>\n",
       "      <td>13</td>\n",
       "      <td>12</td>\n",
       "    </tr>\n",
       "    <tr>\n",
       "      <th>3</th>\n",
       "      <td>0</td>\n",
       "      <td>15</td>\n",
       "      <td>0</td>\n",
       "      <td>1</td>\n",
       "      <td>0</td>\n",
       "      <td>4</td>\n",
       "      <td>2</td>\n",
       "      <td>0</td>\n",
       "      <td>1</td>\n",
       "      <td>3</td>\n",
       "      <td>...</td>\n",
       "      <td>3</td>\n",
       "      <td>2</td>\n",
       "      <td>2</td>\n",
       "      <td>1</td>\n",
       "      <td>1</td>\n",
       "      <td>5</td>\n",
       "      <td>0</td>\n",
       "      <td>14</td>\n",
       "      <td>14</td>\n",
       "      <td>14</td>\n",
       "    </tr>\n",
       "    <tr>\n",
       "      <th>4</th>\n",
       "      <td>0</td>\n",
       "      <td>16</td>\n",
       "      <td>0</td>\n",
       "      <td>1</td>\n",
       "      <td>0</td>\n",
       "      <td>3</td>\n",
       "      <td>3</td>\n",
       "      <td>1</td>\n",
       "      <td>1</td>\n",
       "      <td>2</td>\n",
       "      <td>...</td>\n",
       "      <td>4</td>\n",
       "      <td>3</td>\n",
       "      <td>2</td>\n",
       "      <td>1</td>\n",
       "      <td>2</td>\n",
       "      <td>5</td>\n",
       "      <td>0</td>\n",
       "      <td>11</td>\n",
       "      <td>13</td>\n",
       "      <td>13</td>\n",
       "    </tr>\n",
       "    <tr>\n",
       "      <th>...</th>\n",
       "      <td>...</td>\n",
       "      <td>...</td>\n",
       "      <td>...</td>\n",
       "      <td>...</td>\n",
       "      <td>...</td>\n",
       "      <td>...</td>\n",
       "      <td>...</td>\n",
       "      <td>...</td>\n",
       "      <td>...</td>\n",
       "      <td>...</td>\n",
       "      <td>...</td>\n",
       "      <td>...</td>\n",
       "      <td>...</td>\n",
       "      <td>...</td>\n",
       "      <td>...</td>\n",
       "      <td>...</td>\n",
       "      <td>...</td>\n",
       "      <td>...</td>\n",
       "      <td>...</td>\n",
       "      <td>...</td>\n",
       "      <td>...</td>\n",
       "    </tr>\n",
       "    <tr>\n",
       "      <th>646</th>\n",
       "      <td>0</td>\n",
       "      <td>18</td>\n",
       "      <td>0</td>\n",
       "      <td>1</td>\n",
       "      <td>0</td>\n",
       "      <td>1</td>\n",
       "      <td>1</td>\n",
       "      <td>0</td>\n",
       "      <td>2</td>\n",
       "      <td>2</td>\n",
       "      <td>...</td>\n",
       "      <td>1</td>\n",
       "      <td>1</td>\n",
       "      <td>1</td>\n",
       "      <td>1</td>\n",
       "      <td>1</td>\n",
       "      <td>5</td>\n",
       "      <td>6</td>\n",
       "      <td>11</td>\n",
       "      <td>12</td>\n",
       "      <td>9</td>\n",
       "    </tr>\n",
       "    <tr>\n",
       "      <th>647</th>\n",
       "      <td>1</td>\n",
       "      <td>17</td>\n",
       "      <td>0</td>\n",
       "      <td>0</td>\n",
       "      <td>0</td>\n",
       "      <td>3</td>\n",
       "      <td>1</td>\n",
       "      <td>0</td>\n",
       "      <td>2</td>\n",
       "      <td>1</td>\n",
       "      <td>...</td>\n",
       "      <td>2</td>\n",
       "      <td>4</td>\n",
       "      <td>5</td>\n",
       "      <td>3</td>\n",
       "      <td>4</td>\n",
       "      <td>2</td>\n",
       "      <td>6</td>\n",
       "      <td>10</td>\n",
       "      <td>10</td>\n",
       "      <td>10</td>\n",
       "    </tr>\n",
       "    <tr>\n",
       "      <th>648</th>\n",
       "      <td>1</td>\n",
       "      <td>18</td>\n",
       "      <td>1</td>\n",
       "      <td>0</td>\n",
       "      <td>0</td>\n",
       "      <td>3</td>\n",
       "      <td>2</td>\n",
       "      <td>0</td>\n",
       "      <td>3</td>\n",
       "      <td>1</td>\n",
       "      <td>...</td>\n",
       "      <td>4</td>\n",
       "      <td>4</td>\n",
       "      <td>1</td>\n",
       "      <td>3</td>\n",
       "      <td>4</td>\n",
       "      <td>5</td>\n",
       "      <td>4</td>\n",
       "      <td>10</td>\n",
       "      <td>11</td>\n",
       "      <td>11</td>\n",
       "    </tr>\n",
       "    <tr>\n",
       "      <th>649</th>\n",
       "      <td>0</td>\n",
       "      <td>18</td>\n",
       "      <td>0</td>\n",
       "      <td>1</td>\n",
       "      <td>1</td>\n",
       "      <td>4</td>\n",
       "      <td>4</td>\n",
       "      <td>0</td>\n",
       "      <td>2</td>\n",
       "      <td>2</td>\n",
       "      <td>...</td>\n",
       "      <td>4</td>\n",
       "      <td>3</td>\n",
       "      <td>4</td>\n",
       "      <td>1</td>\n",
       "      <td>1</td>\n",
       "      <td>3</td>\n",
       "      <td>4</td>\n",
       "      <td>0</td>\n",
       "      <td>11</td>\n",
       "      <td>11</td>\n",
       "    </tr>\n",
       "    <tr>\n",
       "      <th>650</th>\n",
       "      <td>0</td>\n",
       "      <td>16</td>\n",
       "      <td>1</td>\n",
       "      <td>1</td>\n",
       "      <td>0</td>\n",
       "      <td>2</td>\n",
       "      <td>2</td>\n",
       "      <td>0</td>\n",
       "      <td>2</td>\n",
       "      <td>2</td>\n",
       "      <td>...</td>\n",
       "      <td>4</td>\n",
       "      <td>4</td>\n",
       "      <td>4</td>\n",
       "      <td>1</td>\n",
       "      <td>1</td>\n",
       "      <td>5</td>\n",
       "      <td>0</td>\n",
       "      <td>12</td>\n",
       "      <td>12</td>\n",
       "      <td>12</td>\n",
       "    </tr>\n",
       "  </tbody>\n",
       "</table>\n",
       "<p>651 rows × 29 columns</p>\n",
       "</div>"
      ],
      "text/plain": [
       "     sex  age  address  famsize  Pstatus  Medu  Fedu  guardian  traveltime  \\\n",
       "0      0   18        0        1        1     4     4         0           2   \n",
       "1      0   17        0        1        0     1     1         1           1   \n",
       "2      0   15        0        0        0     1     1         0           1   \n",
       "3      0   15        0        1        0     4     2         0           1   \n",
       "4      0   16        0        1        0     3     3         1           1   \n",
       "..   ...  ...      ...      ...      ...   ...   ...       ...         ...   \n",
       "646    0   18        0        1        0     1     1         0           2   \n",
       "647    1   17        0        0        0     3     1         0           2   \n",
       "648    1   18        1        0        0     3     2         0           3   \n",
       "649    0   18        0        1        1     4     4         0           2   \n",
       "650    0   16        1        1        0     2     2         0           2   \n",
       "\n",
       "     studytime  ...  famrel  freetime  goout  Dalc  Walc  health  absences  \\\n",
       "0            2  ...       4         3      4     1     1       3         4   \n",
       "1            2  ...       5         3      3     1     1       3         2   \n",
       "2            2  ...       4         3      2     2     3       3         6   \n",
       "3            3  ...       3         2      2     1     1       5         0   \n",
       "4            2  ...       4         3      2     1     2       5         0   \n",
       "..         ...  ...     ...       ...    ...   ...   ...     ...       ...   \n",
       "646          2  ...       1         1      1     1     1       5         6   \n",
       "647          1  ...       2         4      5     3     4       2         6   \n",
       "648          1  ...       4         4      1     3     4       5         4   \n",
       "649          2  ...       4         3      4     1     1       3         4   \n",
       "650          2  ...       4         4      4     1     1       5         0   \n",
       "\n",
       "     G1  G2  G3  \n",
       "0     0  11  11  \n",
       "1     9  11  11  \n",
       "2    12  13  12  \n",
       "3    14  14  14  \n",
       "4    11  13  13  \n",
       "..   ..  ..  ..  \n",
       "646  11  12   9  \n",
       "647  10  10  10  \n",
       "648  10  11  11  \n",
       "649   0  11  11  \n",
       "650  12  12  12  \n",
       "\n",
       "[651 rows x 29 columns]"
      ]
     },
     "execution_count": 7,
     "metadata": {},
     "output_type": "execute_result"
    }
   ],
   "source": [
    "data['sex']= data['sex'].replace({'F':0,'M':1})\n",
    "data['address']= data['address'].replace({'U':0,'R':1})\n",
    "data['famsize']= data['famsize'].replace({'LE3':0,'GT3':1})\n",
    "data['Pstatus']= data['Pstatus'].replace({'T':0,'A':1})\n",
    "data['guardian']= data['guardian'].replace({'mother':0,'father':1,'other':2})\n",
    "data['schoolsup']= data['schoolsup'].replace({'no':0,'yes':1})\n",
    "data['famsup']= data['famsup'].replace({'no':0,'yes':1})\n",
    "data['paid']= data['paid'].replace({'no':0,'yes':1})\n",
    "data['activities']= data['activities'].replace({'no':0,'yes':1})\n",
    "data['nursery']= data['nursery'].replace({'no':0,'yes':1})\n",
    "data['higher']= data['higher'].replace({'no':0,'yes':1})\n",
    "data['internet']= data['internet'].replace({'no':0,'yes':1})\n",
    "data['romantic']= data['romantic'].replace({'no':0,'yes':1})\n",
    "data"
   ]
  },
  {
   "cell_type": "markdown",
   "id": "c6a3c40a",
   "metadata": {},
   "source": [
    "# Unsupervised learning"
   ]
  },
  {
   "cell_type": "markdown",
   "id": "b0ec7d91",
   "metadata": {},
   "source": [
    "## PCA"
   ]
  },
  {
   "cell_type": "markdown",
   "id": "6b7478d3",
   "metadata": {},
   "source": [
    "Since there are too many indicators in the dataset, and many indicators have obvious correlations (such as address and travel time), we first try the PCA method to extract the principal components and reduce the indicator dimensions."
   ]
  },
  {
   "cell_type": "code",
   "execution_count": 8,
   "id": "43af1d41",
   "metadata": {},
   "outputs": [
    {
     "data": {
      "text/plain": [
       "PCA()"
      ]
     },
     "execution_count": 8,
     "metadata": {},
     "output_type": "execute_result"
    }
   ],
   "source": [
    "from sklearn.decomposition import PCA\n",
    "from sklearn.preprocessing import minmax_scale\n",
    "data1=data.drop(['G1','G2','G3'],axis=1)\n",
    "#normalize the data\n",
    "data_normalized = (data1 - data1.min()) / (data1.max() - data1.min())\n",
    "pca = PCA()\n",
    "pca.fit(data_normalized)"
   ]
  },
  {
   "cell_type": "code",
   "execution_count": 9,
   "id": "8e61ebd4",
   "metadata": {},
   "outputs": [
    {
     "data": {
      "text/plain": [
       "<matplotlib.legend.Legend at 0x24340e209d0>"
      ]
     },
     "execution_count": 9,
     "metadata": {},
     "output_type": "execute_result"
    },
    {
     "data": {
      "image/png": "[encoded data removed]",
      "text/plain": [
       "<Figure size 432x288 with 1 Axes>"
      ]
     },
     "metadata": {
      "needs_background": "light"
     },
     "output_type": "display_data"
    }
   ],
   "source": [
    "plt.plot(pca.explained_variance_, '-o')\n",
    "plt.axvline(x=16, c='r', ls='--', label=r'$j=16$')\n",
    "plt.legend()"
   ]
  },
  {
   "cell_type": "code",
   "execution_count": 10,
   "id": "495a800e",
   "metadata": {},
   "outputs": [
    {
     "data": {
      "text/plain": [
       "<matplotlib.legend.Legend at 0x24340040760>"
      ]
     },
     "execution_count": 10,
     "metadata": {},
     "output_type": "execute_result"
    },
    {
     "data": {
      "image/png": "[encoded data removed]",
      "text/plain": [
       "<Figure size 432x288 with 1 Axes>"
      ]
     },
     "metadata": {
      "needs_background": "light"
     },
     "output_type": "display_data"
    }
   ],
   "source": [
    "plt.plot(pca.explained_variance_ratio_, '-o')\n",
    "plt.axvline(x=16, c='r', ls='--', label=r'$j=16$')\n",
    "plt.legend()"
   ]
  },
  {
   "cell_type": "markdown",
   "id": "078cd00e",
   "metadata": {},
   "source": [
    "After observation, the information of the original dataset can be represented by 16 principal components.Then we would show the specific composition of the first three principal components."
   ]
  },
  {
   "cell_type": "code",
   "execution_count": 11,
   "id": "33c727eb",
   "metadata": {},
   "outputs": [
    {
     "data": {
      "text/plain": [
       "Text(0.5, 1.0, 'Third Principal Component Axis')"
      ]
     },
     "execution_count": 11,
     "metadata": {},
     "output_type": "execute_result"
    },
    {
     "data": {
      "image/png": "[encoded data removed]",
      "text/plain": [
       "<Figure size 1080x1296 with 3 Axes>"
      ]
     },
     "metadata": {
      "needs_background": "light"
     },
     "output_type": "display_data"
    }
   ],
   "source": [
    "fig, ax = plt.subplots(3, 1, figsize=(15, 18))\n",
    "sns.barplot(x=pca.components_[0], y=data1.columns, orient='h', ax=ax[0])\n",
    "sns.barplot(x=pca.components_[1], y=data1.columns, orient='h', ax=ax[1])\n",
    "sns.barplot(x=pca.components_[2], y=data1.columns, orient='h', ax=ax[2])\n",
    "\n",
    "ax[0].set_title('First Principal Component Axis')\n",
    "ax[1].set_title('Second Principal Component Axis')\n",
    "ax[2].set_title('Third Principal Component Axis')"
   ]
  },
  {
   "cell_type": "markdown",
   "id": "6b9cea49",
   "metadata": {},
   "source": [
    "We can obtain a new dataset containing only 16 principal component indicators."
   ]
  },
  {
   "cell_type": "code",
   "execution_count": 170,
   "id": "5860d7b9",
   "metadata": {},
   "outputs": [
    {
     "data": {
      "text/plain": [
       "array([[-0.62181084,  0.22930779, -0.7038142 , ..., -0.33208742,\n",
       "         0.1633263 , -0.13430706],\n",
       "       [-0.6759018 , -0.17263091, -0.35171467, ..., -0.10965536,\n",
       "         0.27336401,  0.13786966],\n",
       "       [-0.22690448,  0.24415115, -0.86674651, ..., -0.21757194,\n",
       "        -0.36420006, -0.12016723],\n",
       "       ...,\n",
       "       [ 0.76294307,  1.03152636, -0.55781434, ...,  0.10548201,\n",
       "        -0.215676  , -0.08850572],\n",
       "       [-0.62181084,  0.22930779, -0.7038142 , ..., -0.33208742,\n",
       "         0.1633263 , -0.13430706],\n",
       "       [-0.24536486, -0.25822221,  0.50889577, ..., -0.21881977,\n",
       "         0.07176008,  0.11282312]])"
      ]
     },
     "execution_count": 170,
     "metadata": {},
     "output_type": "execute_result"
    }
   ],
   "source": [
    "pca = PCA(n_components=16)\n",
    "new_data=pca.fit_transform(data_normalized)\n",
    "new_data"
   ]
  },
  {
   "cell_type": "markdown",
   "id": "f9f747b8",
   "metadata": {},
   "source": [
    "## Correlation test"
   ]
  },
  {
   "cell_type": "markdown",
   "id": "dc7a7210",
   "metadata": {},
   "source": [
    "Next, we use the first principal component and the second principal component to test the correlation with G3 scores. From the results, we can roughly estimate the effect of using these principal components to predict G3."
   ]
  },
  {
   "cell_type": "code",
   "execution_count": 211,
   "id": "e46e0a2d",
   "metadata": {},
   "outputs": [
    {
     "name": "stdout",
     "output_type": "stream",
     "text": [
      "SpearmanrResult(correlation=-0.07038456358011427, pvalue=0.07271490439488958)\n"
     ]
    },
    {
     "data": {
      "text/plain": [
       "<AxesSubplot:xlabel='0', ylabel='G3'>"
      ]
     },
     "execution_count": 211,
     "metadata": {},
     "output_type": "execute_result"
    },
    {
     "data": {
      "image/png": "[encoded data removed]",
      "text/plain": [
       "<Figure size 432x288 with 1 Axes>"
      ]
     },
     "metadata": {
      "needs_background": "light"
     },
     "output_type": "display_data"
    }
   ],
   "source": [
    "import scipy\n",
    "#First principal component\n",
    "new_data=pd.DataFrame(new_data)\n",
    "first=new_data[0]\n",
    "print(scipy.stats.spearmanr(first, data['G3']))\n",
    "sns.scatterplot(\n",
    "    x=first,\n",
    "    y=data['G3'],\n",
    "    alpha=0.5,\n",
    ")"
   ]
  },
  {
   "cell_type": "code",
   "execution_count": 214,
   "id": "5d3ba8e8",
   "metadata": {},
   "outputs": [
    {
     "name": "stdout",
     "output_type": "stream",
     "text": [
      "SpearmanrResult(correlation=-0.3353303727895229, pvalue=1.42625520996835e-18)\n"
     ]
    },
    {
     "data": {
      "text/plain": [
       "<AxesSubplot:xlabel='1', ylabel='G3'>"
      ]
     },
     "execution_count": 214,
     "metadata": {},
     "output_type": "execute_result"
    },
    {
     "data": {
      "image/png": "[encoded data removed]",
      "text/plain": [
       "<Figure size 432x288 with 1 Axes>"
      ]
     },
     "metadata": {
      "needs_background": "light"
     },
     "output_type": "display_data"
    }
   ],
   "source": [
    "#Second principal component\n",
    "second = new_data[1]\n",
    "print(scipy.stats.spearmanr(second, data['G3']))\n",
    "sns.scatterplot(\n",
    "    x=second,\n",
    "    y=data['G3'],\n",
    "    alpha=0.5,\n",
    ")"
   ]
  },
  {
   "cell_type": "markdown",
   "id": "b436ce67",
   "metadata": {},
   "source": [
    "According to the scatter plot, the first and second principal components are not significantly linear with G3, so we calculate the spearman correlation coefficient. The correlation between the first principal component and G3 is not strong, while the second principal component shows a certain negative correlation with G3. The p value is very small, which passes the significance test."
   ]
  },
  {
   "cell_type": "markdown",
   "id": "a8df9c17",
   "metadata": {},
   "source": [
    "## K-MEANS"
   ]
  },
  {
   "cell_type": "markdown",
   "id": "3906774b",
   "metadata": {},
   "source": [
    "Let us now apply the K-means algorithm to cluster the data, and try to find the basis for data classification and analyze the effect of data classification."
   ]
  },
  {
   "cell_type": "code",
   "execution_count": 13,
   "id": "1bdd3624",
   "metadata": {},
   "outputs": [
    {
     "name": "stderr",
     "output_type": "stream",
     "text": [
      "D:\\Anaconda\\lib\\site-packages\\sklearn\\cluster\\_kmeans.py:881: UserWarning: KMeans is known to have a memory leak on Windows with MKL, when there are less chunks than available threads. You can avoid it by setting the environment variable OMP_NUM_THREADS=3.\n",
      "  warnings.warn(\n"
     ]
    },
    {
     "data": {
      "text/plain": [
       "Text(0, 0.5, 'Loss')"
      ]
     },
     "execution_count": 13,
     "metadata": {},
     "output_type": "execute_result"
    },
    {
     "data": {
      "image/png": "[encoded data removed]",
      "text/plain": [
       "<Figure size 432x288 with 1 Axes>"
      ]
     },
     "metadata": {
      "needs_background": "light"
     },
     "output_type": "display_data"
    }
   ],
   "source": [
    "from sklearn.cluster import KMeans\n",
    "losses = []\n",
    "#Pca-data clustering\n",
    "for K in range(1, 10):\n",
    "    kmeans = KMeans(n_clusters=K)\n",
    "    kmeans.fit(new_data)\n",
    "    losses.append(kmeans.inertia_)\n",
    "plt.plot(range(1,10), losses, '-o')\n",
    "plt.xlabel('Number of Clusters')\n",
    "plt.ylabel('Loss')"
   ]
  },
  {
   "cell_type": "code",
   "execution_count": 14,
   "id": "bddb1bb0",
   "metadata": {},
   "outputs": [
    {
     "name": "stderr",
     "output_type": "stream",
     "text": [
      "D:\\Anaconda\\lib\\site-packages\\sklearn\\cluster\\_kmeans.py:881: UserWarning: KMeans is known to have a memory leak on Windows with MKL, when there are less chunks than available threads. You can avoid it by setting the environment variable OMP_NUM_THREADS=3.\n",
      "  warnings.warn(\n"
     ]
    },
    {
     "data": {
      "text/plain": [
       "Text(0, 0.5, 'Loss')"
      ]
     },
     "execution_count": 14,
     "metadata": {},
     "output_type": "execute_result"
    },
    {
     "data": {
      "image/png": "[encoded data removed]",
      "text/plain": [
       "<Figure size 432x288 with 1 Axes>"
      ]
     },
     "metadata": {
      "needs_background": "light"
     },
     "output_type": "display_data"
    }
   ],
   "source": [
    "#original data clustering\n",
    "losses = []\n",
    "for K in range(1, 10):\n",
    "    kmeans = KMeans(n_clusters=K)\n",
    "    kmeans.fit(data_normalized)\n",
    "    losses.append(kmeans.inertia_)\n",
    "plt.plot(range(1,10), losses, '-o')\n",
    "plt.xlabel('Number of Clusters')\n",
    "plt.ylabel('Loss')"
   ]
  },
  {
   "cell_type": "markdown",
   "id": "888319cc",
   "metadata": {},
   "source": [
    "Dataset through the PCA method reduces the index dimension, the loss function value is smaller than the original dataset. Since there will be no great difference in students, we will only divide students into three categories."
   ]
  },
  {
   "cell_type": "code",
   "execution_count": 15,
   "id": "5dbaef5b",
   "metadata": {},
   "outputs": [
    {
     "data": {
      "text/html": [
       "<div>\n",
       "<style scoped>\n",
       "    .dataframe tbody tr th:only-of-type {\n",
       "        vertical-align: middle;\n",
       "    }\n",
       "\n",
       "    .dataframe tbody tr th {\n",
       "        vertical-align: top;\n",
       "    }\n",
       "\n",
       "    .dataframe thead th {\n",
       "        text-align: right;\n",
       "    }\n",
       "</style>\n",
       "<table border=\"1\" class=\"dataframe\">\n",
       "  <thead>\n",
       "    <tr style=\"text-align: right;\">\n",
       "      <th></th>\n",
       "      <th>sex</th>\n",
       "      <th>age</th>\n",
       "      <th>address</th>\n",
       "      <th>famsize</th>\n",
       "      <th>Pstatus</th>\n",
       "      <th>Medu</th>\n",
       "      <th>Fedu</th>\n",
       "      <th>guardian</th>\n",
       "      <th>traveltime</th>\n",
       "      <th>studytime</th>\n",
       "      <th>...</th>\n",
       "      <th>freetime</th>\n",
       "      <th>goout</th>\n",
       "      <th>Dalc</th>\n",
       "      <th>Walc</th>\n",
       "      <th>health</th>\n",
       "      <th>absences</th>\n",
       "      <th>G1</th>\n",
       "      <th>G2</th>\n",
       "      <th>G3</th>\n",
       "      <th>labels</th>\n",
       "    </tr>\n",
       "  </thead>\n",
       "  <tbody>\n",
       "    <tr>\n",
       "      <th>0</th>\n",
       "      <td>0</td>\n",
       "      <td>18</td>\n",
       "      <td>0</td>\n",
       "      <td>1</td>\n",
       "      <td>1</td>\n",
       "      <td>4</td>\n",
       "      <td>4</td>\n",
       "      <td>0</td>\n",
       "      <td>2</td>\n",
       "      <td>2</td>\n",
       "      <td>...</td>\n",
       "      <td>3</td>\n",
       "      <td>4</td>\n",
       "      <td>1</td>\n",
       "      <td>1</td>\n",
       "      <td>3</td>\n",
       "      <td>4</td>\n",
       "      <td>0</td>\n",
       "      <td>11</td>\n",
       "      <td>11</td>\n",
       "      <td>1</td>\n",
       "    </tr>\n",
       "    <tr>\n",
       "      <th>1</th>\n",
       "      <td>0</td>\n",
       "      <td>17</td>\n",
       "      <td>0</td>\n",
       "      <td>1</td>\n",
       "      <td>0</td>\n",
       "      <td>1</td>\n",
       "      <td>1</td>\n",
       "      <td>1</td>\n",
       "      <td>1</td>\n",
       "      <td>2</td>\n",
       "      <td>...</td>\n",
       "      <td>3</td>\n",
       "      <td>3</td>\n",
       "      <td>1</td>\n",
       "      <td>1</td>\n",
       "      <td>3</td>\n",
       "      <td>2</td>\n",
       "      <td>9</td>\n",
       "      <td>11</td>\n",
       "      <td>11</td>\n",
       "      <td>1</td>\n",
       "    </tr>\n",
       "    <tr>\n",
       "      <th>2</th>\n",
       "      <td>0</td>\n",
       "      <td>15</td>\n",
       "      <td>0</td>\n",
       "      <td>0</td>\n",
       "      <td>0</td>\n",
       "      <td>1</td>\n",
       "      <td>1</td>\n",
       "      <td>0</td>\n",
       "      <td>1</td>\n",
       "      <td>2</td>\n",
       "      <td>...</td>\n",
       "      <td>3</td>\n",
       "      <td>2</td>\n",
       "      <td>2</td>\n",
       "      <td>3</td>\n",
       "      <td>3</td>\n",
       "      <td>6</td>\n",
       "      <td>12</td>\n",
       "      <td>13</td>\n",
       "      <td>12</td>\n",
       "      <td>1</td>\n",
       "    </tr>\n",
       "    <tr>\n",
       "      <th>3</th>\n",
       "      <td>0</td>\n",
       "      <td>15</td>\n",
       "      <td>0</td>\n",
       "      <td>1</td>\n",
       "      <td>0</td>\n",
       "      <td>4</td>\n",
       "      <td>2</td>\n",
       "      <td>0</td>\n",
       "      <td>1</td>\n",
       "      <td>3</td>\n",
       "      <td>...</td>\n",
       "      <td>2</td>\n",
       "      <td>2</td>\n",
       "      <td>1</td>\n",
       "      <td>1</td>\n",
       "      <td>5</td>\n",
       "      <td>0</td>\n",
       "      <td>14</td>\n",
       "      <td>14</td>\n",
       "      <td>14</td>\n",
       "      <td>2</td>\n",
       "    </tr>\n",
       "    <tr>\n",
       "      <th>4</th>\n",
       "      <td>0</td>\n",
       "      <td>16</td>\n",
       "      <td>0</td>\n",
       "      <td>1</td>\n",
       "      <td>0</td>\n",
       "      <td>3</td>\n",
       "      <td>3</td>\n",
       "      <td>1</td>\n",
       "      <td>1</td>\n",
       "      <td>2</td>\n",
       "      <td>...</td>\n",
       "      <td>3</td>\n",
       "      <td>2</td>\n",
       "      <td>1</td>\n",
       "      <td>2</td>\n",
       "      <td>5</td>\n",
       "      <td>0</td>\n",
       "      <td>11</td>\n",
       "      <td>13</td>\n",
       "      <td>13</td>\n",
       "      <td>1</td>\n",
       "    </tr>\n",
       "  </tbody>\n",
       "</table>\n",
       "<p>5 rows × 30 columns</p>\n",
       "</div>"
      ],
      "text/plain": [
       "   sex  age  address  famsize  Pstatus  Medu  Fedu  guardian  traveltime  \\\n",
       "0    0   18        0        1        1     4     4         0           2   \n",
       "1    0   17        0        1        0     1     1         1           1   \n",
       "2    0   15        0        0        0     1     1         0           1   \n",
       "3    0   15        0        1        0     4     2         0           1   \n",
       "4    0   16        0        1        0     3     3         1           1   \n",
       "\n",
       "   studytime  ...  freetime  goout  Dalc  Walc  health  absences  G1  G2  G3  \\\n",
       "0          2  ...         3      4     1     1       3         4   0  11  11   \n",
       "1          2  ...         3      3     1     1       3         2   9  11  11   \n",
       "2          2  ...         3      2     2     3       3         6  12  13  12   \n",
       "3          3  ...         2      2     1     1       5         0  14  14  14   \n",
       "4          2  ...         3      2     1     2       5         0  11  13  13   \n",
       "\n",
       "   labels  \n",
       "0       1  \n",
       "1       1  \n",
       "2       1  \n",
       "3       2  \n",
       "4       1  \n",
       "\n",
       "[5 rows x 30 columns]"
      ]
     },
     "execution_count": 15,
     "metadata": {},
     "output_type": "execute_result"
    }
   ],
   "source": [
    "#Pca-data\n",
    "kmeans = KMeans(3)\n",
    "kmeans.fit(new_data)\n",
    "labels = kmeans.labels_\n",
    "data['labels']=labels \n",
    "data.head()"
   ]
  },
  {
   "cell_type": "markdown",
   "id": "dd2d8ea3",
   "metadata": {},
   "source": [
    "Record the class names of different students, and then calculate the average G3 scores of students in the different classes."
   ]
  },
  {
   "cell_type": "code",
   "execution_count": 16,
   "id": "20d6da0e",
   "metadata": {},
   "outputs": [
    {
     "data": {
      "text/plain": [
       "labels\n",
       "0    11.406015\n",
       "1    12.142202\n",
       "2    12.389222\n",
       "Name: G3, dtype: float64"
      ]
     },
     "execution_count": 16,
     "metadata": {},
     "output_type": "execute_result"
    }
   ],
   "source": [
    "data['G3'].groupby([data['labels']]).mean()"
   ]
  },
  {
   "cell_type": "markdown",
   "id": "2716bce1",
   "metadata": {},
   "source": [
    "The average G3 scores of all students are 11.9048, while the average G3 scores of the three categories are 11.0529, 11.8282, and 12.5720 (that is, below the average, close to the average, and above the average). Therefore, it can be explained that these indicators can better predict students' G3 scores. Next, we try to use the same method on the original dataset and observe the classification effect."
   ]
  },
  {
   "cell_type": "code",
   "execution_count": 17,
   "id": "ff586891",
   "metadata": {},
   "outputs": [
    {
     "data": {
      "text/plain": [
       "labels\n",
       "0    12.159091\n",
       "1    11.386364\n",
       "2    12.389222\n",
       "Name: G3, dtype: float64"
      ]
     },
     "execution_count": 17,
     "metadata": {},
     "output_type": "execute_result"
    }
   ],
   "source": [
    "#original data\n",
    "kmeans = KMeans(3)\n",
    "kmeans.fit(data_normalized)\n",
    "labels = kmeans.labels_\n",
    "data['labels']=labels \n",
    "data['G3'].groupby([data['labels']]).mean()"
   ]
  },
  {
   "cell_type": "markdown",
   "id": "ea6d858b",
   "metadata": {},
   "source": [
    "Directly using the original data for k-mean clustering, the average G3 scores of the three types of students are 11.4000, 12.3892, 12.1461. The classification effect is obviously worse the method of extracting principal components first and then clustering."
   ]
  },
  {
   "cell_type": "markdown",
   "id": "f296a09e",
   "metadata": {},
   "source": [
    "## Conclusion"
   ]
  },
  {
   "cell_type": "markdown",
   "id": "9659b03a",
   "metadata": {},
   "source": [
    "After the above analysis, the PCA method can well extract the information in the original data, and reduce the data complexity and noise. The K-MEANS method can classify data through the correlation of indicators, and the classification results are also consistent with the actual situation."
   ]
  },
  {
   "cell_type": "markdown",
   "id": "9dbe802e",
   "metadata": {},
   "source": [
    "# Supervised learning"
   ]
  },
  {
   "cell_type": "markdown",
   "id": "86cdd3f7",
   "metadata": {},
   "source": [
    "In supervised learning part, we mainly use various methods to predict G3 by the principal components extracted from PCA, so this is a clear regression problem."
   ]
  },
  {
   "cell_type": "code",
   "execution_count": 290,
   "id": "6cbb9801",
   "metadata": {},
   "outputs": [],
   "source": [
    "#Split training set test set\n",
    "from sklearn.model_selection import train_test_split\n",
    "x_train, x_test, y_train, y_test = train_test_split(new_data, data['G3'], test_size=0.1)"
   ]
  },
  {
   "cell_type": "markdown",
   "id": "e458f209",
   "metadata": {},
   "source": [
    "## Linear Regression with Polynomial Kernel"
   ]
  },
  {
   "cell_type": "markdown",
   "id": "72b24587",
   "metadata": {},
   "source": [
    "First, we try to use Linear Regression with Polynomial Kernel(degree 3). At the same time, we use 10 fold cross validation method to evaluate the fitting accuracy of the model. Because this problem is a regression problem, we adopt MSE as the loss value of model prediction."
   ]
  },
  {
   "cell_type": "code",
   "execution_count": 296,
   "id": "a6bb1643",
   "metadata": {},
   "outputs": [
    {
     "name": "stdout",
     "output_type": "stream",
     "text": [
      "[-259.41328989  -81.80194993 -161.27502029 -198.20881438 -225.56074126\n",
      " -148.65838179  -96.78558501 -185.97117698 -108.06598299 -228.7603996 ]\n",
      "Mean MSE: -169.45013421237536\n",
      "Std MSE: 57.52301114919624\n"
     ]
    }
   ],
   "source": [
    "from sklearn.model_selection import cross_val_score\n",
    "from sklearn.preprocessing import PolynomialFeatures\n",
    "# Linear regression with polynomial kernel(degree 3)\n",
    "phi = PolynomialFeatures(degree=3)\n",
    "x_poly_train= phi.fit_transform(x_train)\n",
    "x_poly_test= phi.fit_transform(x_test)\n",
    "regressor_poly = LinearRegression()\n",
    "regressor_poly.fit(\n",
    "    X=x_poly_train,\n",
    "    y=y_train,\n",
    ")\n",
    "scores = cross_val_score(regressor_poly, x_poly_train, y_train, cv=10,scoring='neg_mean_squared_error')\n",
    "print(scores)\n",
    "print(f'Mean MSE: {np.mean(scores)}')\n",
    "print(f'Std MSE: {np.std(scores)}')"
   ]
  },
  {
   "cell_type": "markdown",
   "id": "dabe2a0f",
   "metadata": {},
   "source": [
    "After ten times of model fitting, the mean MSE of linear regression with polynomial kernel(degree 3) is 169.45, and the Standard Deviation is 57.52. Then, we would print the score in train set and test set."
   ]
  },
  {
   "cell_type": "code",
   "execution_count": 292,
   "id": "e09bc951",
   "metadata": {},
   "outputs": [
    {
     "name": "stdout",
     "output_type": "stream",
     "text": [
      "Train score: 1.0\n",
      "Test score: -19.924944097391116\n"
     ]
    }
   ],
   "source": [
    "#Score\n",
    "print(f'Train score: {regressor_poly.score(x_poly_train, y_train)}')\n",
    "print(f'Test score: {regressor_poly.score(x_poly_test, y_test)}')"
   ]
  },
  {
   "cell_type": "markdown",
   "id": "3e0c5992",
   "metadata": {},
   "source": [
    "The train set score is 1, and the test set score is -19. The model appears obvious over fitting phenomenon, so we try to add a regular penalty term, that is, Kernel Ridge Regression."
   ]
  },
  {
   "cell_type": "markdown",
   "id": "5c405318",
   "metadata": {},
   "source": [
    "## Kernel Ridge Regression"
   ]
  },
  {
   "cell_type": "code",
   "execution_count": 298,
   "id": "6c26a0bd",
   "metadata": {},
   "outputs": [
    {
     "name": "stdout",
     "output_type": "stream",
     "text": [
      "[ -8.98433482  -8.23610945  -7.58825057  -6.76989569 -10.41456645\n",
      " -11.03165932  -7.26264922  -5.77120201  -9.02249758 -12.14642021]\n",
      "Mean MSE: -8.722758532167346\n",
      "Std MSE: 1.9040529365959957\n",
      "Train score: 0.6007697584498146\n",
      "Test score: 0.3439040767649224\n"
     ]
    },
    {
     "name": "stderr",
     "output_type": "stream",
     "text": [
      "D:\\Anaconda\\lib\\site-packages\\seaborn\\distributions.py:2619: FutureWarning: `distplot` is a deprecated function and will be removed in a future version. Please adapt your code to use either `displot` (a figure-level function with similar flexibility) or `histplot` (an axes-level function for histograms).\n",
      "  warnings.warn(msg, FutureWarning)\n"
     ]
    },
    {
     "data": {
      "text/plain": [
       "<AxesSubplot:ylabel='Density'>"
      ]
     },
     "execution_count": 298,
     "metadata": {},
     "output_type": "execute_result"
    },
    {
     "data": {
      "image/png": "[encoded data removed]",
      "text/plain": [
       "<Figure size 432x288 with 1 Axes>"
      ]
     },
     "metadata": {
      "needs_background": "light"
     },
     "output_type": "display_data"
    }
   ],
   "source": [
    "from sklearn.linear_model import Ridge\n",
    "ridge=Ridge(alpha=10)\n",
    "ridge.fit(x_poly_train, y_train)\n",
    "scores = cross_val_score(ridge, x_poly_train, y_train, cv=10,scoring='neg_mean_squared_error')\n",
    "print(scores)\n",
    "print(f'Mean MSE: {np.mean(scores)}')\n",
    "print(f'Std MSE: {np.std(scores)}')\n",
    "print(f'Train score: {ridge.score(x_poly_train, y_train)}')\n",
    "print(f'Test score: {ridge.score(x_poly_test, y_test)}')\n",
    "sns.distplot(scores)"
   ]
  },
  {
   "cell_type": "markdown",
   "id": "a0ef4c7e",
   "metadata": {},
   "source": [
    "Kernel Ridge Regression fitting effect is obviously stronger(mean MSE: 8.72, Standard Deviation: 1.90). Train score is 0.60 and test score is 0.34. Then, we try to use decision tree method to solve this regression problem."
   ]
  },
  {
   "cell_type": "markdown",
   "id": "69daa988",
   "metadata": {},
   "source": [
    "## Decision Tree"
   ]
  },
  {
   "cell_type": "code",
   "execution_count": 294,
   "id": "b10fada5",
   "metadata": {},
   "outputs": [
    {
     "name": "stdout",
     "output_type": "stream",
     "text": [
      "[-13.05084746 -15.69491525 -14.05084746 -15.44067797 -19.93220339\n",
      " -13.98275862 -13.74137931 -15.86206897 -15.05172414 -14.93103448]\n",
      "Mean MSE: -15.173845704266515\n",
      "Train score: 1.0\n",
      "Test MSE: -0.15120838383118262\n"
     ]
    }
   ],
   "source": [
    "from sklearn.tree import DecisionTreeRegressor\n",
    "#DecisionTreeRegressor。\n",
    "dtr = DecisionTreeRegressor()\n",
    "dtr.fit(x_train, y_train)\n",
    "scores = cross_val_score(dtr, x_train, y_train, cv=10,scoring='neg_mean_squared_error')\n",
    "print(scores)\n",
    "print(f'Mean MSE: {np.mean(scores)}')\n",
    "print(f'Train score: {dtr.score(x_train, y_train)}')\n",
    "print(f'Test MSE: {dtr.score(x_test, y_test)}')"
   ]
  },
  {
   "cell_type": "markdown",
   "id": "cf296a68",
   "metadata": {},
   "source": [
    "As just now, the simple regression tree model is severely over fitted, so we try to use Gradient Boosting Decison Tree mothod. GBDT method accumulates the conclusions of all trees to make the final conclusion. The core of GBDT is that each tree learns the residual of the sum of all previous trees' conclusions. This residual is the sum of the real value after adding the predicted value."
   ]
  },
  {
   "cell_type": "markdown",
   "id": "4c9bd193",
   "metadata": {},
   "source": [
    "## GBDT Method"
   ]
  },
  {
   "cell_type": "code",
   "execution_count": 295,
   "id": "3a889f17",
   "metadata": {},
   "outputs": [
    {
     "name": "stdout",
     "output_type": "stream",
     "text": [
      "[ -9.28610294  -9.62954855  -7.81181582  -7.84538129 -10.90117797\n",
      " -11.42186113  -8.27517689  -7.13927389 -11.51080751 -15.42491924]\n",
      "Mean MSE: -9.924606524357015\n",
      "Train score: 0.7589155734514696\n",
      "Test score: 0.26663332294399544\n"
     ]
    }
   ],
   "source": [
    "# GBDT mothod\n",
    "from sklearn.ensemble import GradientBoostingRegressor\n",
    "GBDT = GradientBoostingRegressor()\n",
    "GBDT.fit(x_train,y_train)\n",
    "scores = cross_val_score(GBDT, x_train, y_train, cv=10,scoring='neg_mean_squared_error')\n",
    "print(scores)\n",
    "print(f'Mean MSE: {np.mean(scores)}')\n",
    "print(f'Train score: {GBDT.score(x_train, y_train)}')\n",
    "print(f'Test score: {GBDT.score(x_test, y_test)}')"
   ]
  },
  {
   "cell_type": "markdown",
   "id": "1037ec42",
   "metadata": {},
   "source": [
    "The prediction effect of the GBDT model is good, mean MSE: 9.92, train score: 0.76, test score: 0.27."
   ]
  },
  {
   "cell_type": "markdown",
   "id": "82a3b5ed",
   "metadata": {},
   "source": [
    "## Conclusion"
   ]
  },
  {
   "cell_type": "markdown",
   "id": "3e0b280c",
   "metadata": {},
   "source": [
    "We have tried four supervised learning methods to predict performance by principal components. In the whole prediction process, the common problem is over fitting. By observing our original data, we can find that many indicators are binary indicators and have many data dimensions, which belongs to high-dimensional sparse features. Therefore, it is difficult for us to divide the feature space effectively, and data are very sensitive to noise. After several improvements, the over fitting phenomenon has been alleviated, results display that Kernel Ridge Regression and GBDT mothod have good prediction effects.\n",
    "\n",
    "Observing the model fitting scores, we notice that the model fitting score in test data is not high. Combining the previous correlation test result, we find that it is difficult to accurately predict the student's grade simply by the indicators of the original data. This is also consistent with the reality. The students' test scores are indeed related to their performance in school, family conditions, study time and other factors, but they are not the decisive factors for achieving good grades. There are also factors that are difficult to measure, such as students' talents and personality. Therefore, we can only say that this project is a meaningful attempt."
   ]
  }
 ],
 "metadata": {
  "kernelspec": {
   "display_name": "Python 3 (ipykernel)",
   "language": "python",
   "name": "python3"
  },
  "language_info": {
   "codemirror_mode": {
    "name": "ipython",
    "version": 3
   },
   "file_extension": ".py",
   "mimetype": "text/x-python",
   "name": "python",
   "nbconvert_exporter": "python",
   "pygments_lexer": "ipython3",
   "version": "3.9.7"
  }
 },
 "nbformat": 4,
 "nbformat_minor": 5
}
